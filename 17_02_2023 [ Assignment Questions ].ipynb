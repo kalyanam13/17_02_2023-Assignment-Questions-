{
 "cells": [
  {
   "cell_type": "markdown",
   "id": "2853dde0-b79d-4e38-89a7-9df1c6175b66",
   "metadata": {},
   "source": [
    "### Question no.1: What is MongoDB ? Explain non-relational databases in short. In which scenarios it is preferred to use MongoDB over SQL databases ?\n",
    "### Answer: MongoDB is a popular non-relational database management system that stores data in flexible, JSON-like documents instead of traditional rows and columns. MongoDB is known for its ability to handle large amounts of unstructured data and its scalability.\n",
    "\n",
    "### Non-relational databases, also known as NoSQL databases, are databases that do not follow the traditional relational database model based on tables and rows. Instead, they use different data models that allow for more flexibility in storing and querying data. Some common types of NoSQL databases include document-oriented databases like MongoDB, key-value stores, column-family stores, and graph databases.\n",
    "\n",
    "### MongoDB is often preferred over SQL databases in scenarios where there is a need for:\n",
    "\n",
    "### 1.Scalability: MongoDB is horizontally scalable, meaning that it can handle increasing amounts of data simply by adding more nodes to a cluster, whereas traditional SQL databases are vertically scalable and require more powerful hardware to handle increasing amounts of data.\n",
    "\n",
    "### 2.Flexibility: MongoDB's flexible document-based data model allows for storing different types of data with different structures within a single collection.\n",
    "\n",
    "### 3.High availability: MongoDB provides automatic sharding and replica sets, making it easier to achieve high availability and data redundancy.\n",
    "\n",
    "### 4.Real-time analytics: MongoDB's ability to handle unstructured data and provide real-time analytics makes it ideal for applications where real-time data processing and analysis is required.\n",
    "\n",
    "### 5.Rapid development: MongoDB's schema-less data model makes it easier and faster to develop and iterate on new applications and features.\n",
    "\n",
    "### However, SQL databases are still preferred in scenarios where transactions are the primary concern or where strict data consistency is required. Additionally, SQL databases may be better suited for applications where complex queries and relationships between data are necessary."
   ]
  },
  {
   "cell_type": "markdown",
   "id": "c1462c40-6117-4168-ab0e-b4a4d550c632",
   "metadata": {},
   "source": [
    "### Question no.2: State and Explain the features of MongoDB.\n",
    "### Answer: MongoDB is a popular NoSQL database management system that provides several features that make it a good choice for handling large amounts of unstructured data. Some of the key features of MongoDB include:\n",
    "\n",
    "### 1.Document-oriented: MongoDB stores data in documents, which are JSON-like data structures that can have a flexible schema. This allows for easier handling of unstructured and semi-structured data.\n",
    "\n",
    "### 2.Horizontal scaling: MongoDB is designed to scale horizontally, meaning that it can handle large amounts of data by distributing it across multiple servers. This allows for high availability and performance even as the amount of data grows.\n",
    "\n",
    "### 3.Indexing: MongoDB supports indexing of fields in documents, which allows for faster queries and improved performance.\n",
    "\n",
    "### 4.Aggregation framework: MongoDB provides a powerful aggregation framework that allows for complex data aggregation, filtering, and analysis. This is especially useful for applications that require real-time analytics.\n",
    "\n",
    "### 5.Ad-hoc queries: MongoDB supports ad-hoc queries, meaning that developers can query the data in any way they want without having to predefine a schema or schema structure.\n",
    "\n",
    "### 6.Replication and high availability: MongoDB provides built-in replication and high availability features that ensure data redundancy and minimal downtime.\n",
    "\n",
    "### 7.Flexible data model: MongoDB's flexible data model allows for storing different types of data with different structures within a single collection, making it easier to handle complex data.\n",
    "\n",
    "### 8.Schema-less design: MongoDB has a schema-less design, which means that it can handle changing data structures without requiring any modifications to the database schema.\n",
    "\n",
    "### Overall, MongoDB's document-oriented data model, horizontal scaling, indexing, and flexible data structures make it an ideal choice for handling large amounts of unstructured data, and its aggregation framework and ad-hoc querying capabilities make it well-suited for real-time analytics and complex data analysis."
   ]
  },
  {
   "cell_type": "markdown",
   "id": "fa67951f-74c3-4594-86cb-835f007cf465",
   "metadata": {},
   "source": [
    "### Question no.3: Write a code to connect MongoDB to Python. Also , create a database and a collection in MongoDB.\n",
    "### Answer: To connect MongoDB to Python, you can use the PyMongo library. Here's an example code snippet:"
   ]
  },
  {
   "cell_type": "code",
   "execution_count": null,
   "id": "9d9301e2-5598-4f58-bc7c-570c764e02a6",
   "metadata": {},
   "outputs": [],
   "source": [
    "import pymongo \n",
    "\n",
    "# connect to mongodb server\n",
    "client = pymongo.MongoClient(\"mongodb://localhost:27017/\")\n",
    "\n",
    "# create a new database\n",
    "mydb = client[\"mydatabase\"]\n",
    "\n",
    "# create a new collection\n",
    "mycoll = mydb[\"customers\"]"
   ]
  },
  {
   "cell_type": "markdown",
   "id": "66530408-21de-4923-8a0d-977212c9dcf5",
   "metadata": {},
   "source": [
    "### In this example, we first import the pymongo library. Then, we use the MongoClient class to connect to the MongoDB server running on the localhost at port 27017. Next, we create a new database named mydatabase using the client object. Finally, we create a new collection named customers in the mydatabase database using the mydb object.\n",
    "\n",
    "### Note that if the database or collection already exists, the MongoClient and mydb objects will connect to them instead of creating new ones."
   ]
  },
  {
   "cell_type": "markdown",
   "id": "73929f17-d98d-47b6-b318-ba292e468fb2",
   "metadata": {},
   "source": [
    "### Question no.4: Using the database and the collection created in question number 3, write a code to insert one record, and insert many records. Use the find() and find_one() methods to print the inserted record.\n",
    "### Answer: Sure! Here's an example code snippet that inserts one record and then inserts multiple records into the customers collection created in the previous example:"
   ]
  },
  {
   "cell_type": "code",
   "execution_count": null,
   "id": "1b86adb7-77db-495a-99be-7a208619335f",
   "metadata": {},
   "outputs": [],
   "source": [
    "import pymongo \n",
    "\n",
    "# connect to mongodb server\n",
    "client = pymongo.MongoClient(\"mongodb://localhost:27017/\")\n",
    "\n",
    "# create new database and collection\n",
    "mydb = client[\"mydatabase\"]\n",
    "mycol = mydb[\"customers\"]\n",
    "\n",
    "# Insert one record\n",
    "mydict = {\"name\":\"john\" , \"Address\":\"Highway 37\"}\n",
    "x = mycol.insert_one(mydict)\n",
    "\n",
    "# Print the inserted record using find_one()\n",
    "print(mycol.find_one())\n",
    "\n",
    "# Insert many records\n",
    "mylist = [\n",
    "  { \"name\": \"Amy\", \"address\": \"Apple st 652\" },\n",
    "  { \"name\": \"Hannah\", \"address\": \"Mountain 21\" },\n",
    "  { \"name\": \"Michael\", \"address\": \"Valley 345\" },\n",
    "  { \"name\": \"Sandy\", \"address\": \"Ocean blvd 2\" },\n",
    "  { \"name\": \"Betty\", \"address\": \"Green Grass 1\" },\n",
    "  { \"name\": \"Richard\", \"address\": \"Sky st 331\" },\n",
    "  { \"name\": \"Susan\", \"address\": \"One way 98\" },\n",
    "  { \"name\": \"Vicky\", \"address\": \"Yellow Garden 2\" },\n",
    "  { \"name\": \"Ben\", \"address\": \"Park Lane 38\" },\n",
    "  { \"name\": \"William\", \"address\": \"Central st 954\" },\n",
    "  { \"name\": \"Chuck\", \"address\": \"Main Road 989\" },\n",
    "  { \"name\": \"Viola\", \"address\": \"Sideway 1633\" }\n",
    "]\n",
    "\n",
    "x = mycol.insert_many(mylist)\n",
    "\n",
    "# print all the inserted records using find()\n",
    "for records in mycol.find():\n",
    "    print(records)"
   ]
  },
  {
   "cell_type": "markdown",
   "id": "712db4bf-fed6-47e0-b9a1-136dd08ed325",
   "metadata": {},
   "source": [
    "### In this example, we first connect to the MongoDB server and create a new database and collection. Then, we insert one record into the customers collection using the insert_one() method and print the inserted record using the find_one() method.\n",
    "\n",
    "### Next, we insert multiple records into the customers collection using the insert_many() method and print all the inserted records using the find() method in a loop.\n",
    "\n",
    "### Note that the _id field is automatically added to each document by MongoDB if it is not specified explicitly in the insert statement."
   ]
  },
  {
   "cell_type": "markdown",
   "id": "e2674b63-a60b-4428-8c28-99550b7e2a52",
   "metadata": {},
   "source": [
    "### Question no.5: Explain how you can use the find() method to query the MongoDB database. Write a simple code to demonstrate this.\n",
    "### Answer: The find() method is used to query a MongoDB database and retrieve one or more documents that match the specified query criteria. The find() method returns a cursor object that can be iterated over to access the matching documents.\n",
    "\n",
    "### The find() method takes a query parameter that specifies the criteria for the query. The query parameter is a dictionary that specifies the fields to match and their values. For example, if we have a collection of documents that contain a field name, we can query for documents where the name field is \"John\" using the following query:"
   ]
  },
  {
   "cell_type": "code",
   "execution_count": null,
   "id": "0c6ea968-7300-4444-8e8c-91d931876a46",
   "metadata": {},
   "outputs": [],
   "source": [
    "query = {\"name\" : \"john\"}\n",
    "cursor = collection.find(query)"
   ]
  },
  {
   "cell_type": "markdown",
   "id": "55461fc9-b388-4012-902f-5a5fe2d9bf68",
   "metadata": {},
   "source": [
    "### The above code will retrieve all documents in the collection where the name field is \"John\" and return a cursor object that can be iterated over to access the matching documents.\n",
    "\n",
    "### Here's a simple code example that demonstrates the use of the find() method:"
   ]
  },
  {
   "cell_type": "code",
   "execution_count": null,
   "id": "0007f0cf-0663-4204-81a6-cb9c7ebc08dc",
   "metadata": {},
   "outputs": [],
   "source": [
    "import pymongo\n",
    "\n",
    "# connect to mongodb server\n",
    "client = pymongo.MongoClient(\"mongodb://localhost:27017/\")\n",
    "\n",
    "# Access the database and collection\n",
    "db = client[\"mydatabase\"]\n",
    "collection = db[\"customers\"]\n",
    "\n",
    "# Query the collection for all documents\n",
    "cursor = collection.find()\n",
    "\n",
    "# Print the documents\n",
    "for document in cursor:\n",
    "    print(document)"
   ]
  },
  {
   "cell_type": "markdown",
   "id": "5450a1b0-d3b3-49bb-835c-75d35d9505d5",
   "metadata": {},
   "source": [
    "### In this example, we first connect to the MongoDB server and access the mydatabase database and the customers collection. Then, we use the find() method to retrieve all documents in the collection and iterate over the cursor object to print each document.\n",
    "\n",
    "### Note that if the query parameter is not specified, the find() method will return all documents in the collection."
   ]
  },
  {
   "cell_type": "markdown",
   "id": "d418c3e3-6849-4f99-938e-330bf2af2184",
   "metadata": {},
   "source": [
    "### Question no.6: Explain the sort() method.Give an example to demonstrate sorting in MongoDB.\n",
    "### Answer: The sort() method in MongoDB is used to sort the result of a query in ascending or descending order based on one or more fields. The syntax of the sort() method is as follows:"
   ]
  },
  {
   "cell_type": "code",
   "execution_count": null,
   "id": "ea67a112-875e-4992-83ae-e66cac6a7968",
   "metadata": {},
   "outputs": [],
   "source": [
    "db.collection.find().sort({ field1 : 1 , field2 : -1})"
   ]
  },
  {
   "cell_type": "markdown",
   "id": "b620bb24-1e8b-4e63-8b0f-0d0e9303134f",
   "metadata": {
    "tags": []
   },
   "source": [
    "### In the above syntax, db.collection.find() is the query to be sorted. The sort() method takes an object with key-value pairs, where the key is the field to sort on and the value is either 1 for ascending order or -1 for descending order.\n",
    "\n",
    "### Here's an example to demonstrate the use of sort() in MongoDB. Let's say we have a collection students with the following documents:"
   ]
  },
  {
   "cell_type": "code",
   "execution_count": null,
   "id": "7bc86f98-ae47-4325-a087-d7c3f259b56e",
   "metadata": {},
   "outputs": [],
   "source": [
    "{\"_id\" : 1 , \"name\" : \"Alice\", \"age\" : 20 }\n",
    "{\"_id\" : 2 , \"name\" : \"john\" , \"age\" : 22 }\n",
    "{\"_id\" : 3 , \"name\" : \"charlie\" , \"age\" : 18 }"
   ]
  },
  {
   "cell_type": "markdown",
   "id": "c6e7ff7c-ea93-411d-8f83-03a00cce0535",
   "metadata": {},
   "source": [
    "### We can sort these documents based on the age field in ascending order using the following query:"
   ]
  },
  {
   "cell_type": "code",
   "execution_count": null,
   "id": "d484de48-d349-424c-881c-16cfc2af65c4",
   "metadata": {},
   "outputs": [],
   "source": [
    "db.collection.find().sort({ age: 1 })"
   ]
  },
  {
   "cell_type": "markdown",
   "id": "1dbf8eb8-1c6a-4c32-8ad3-38546e6bd145",
   "metadata": {},
   "source": [
    "### The result of this query would be:"
   ]
  },
  {
   "cell_type": "code",
   "execution_count": null,
   "id": "e2310e36-9a94-4e1d-87fd-a097cba946ab",
   "metadata": {},
   "outputs": [],
   "source": [
    "{ \"_id\" : 3, \"name\" : \"Charlie\", \"age\" : 18 }\n",
    "{ \"_id\" : 1, \"name\" : \"Alice\", \"age\" : 20 }\n",
    "{ \"_id\" : 2, \"name\" : \"john\", \"age\" : 22 }\n"
   ]
  },
  {
   "cell_type": "markdown",
   "id": "5cba1efd-191e-442f-bfcf-7c273debda96",
   "metadata": {},
   "source": [
    "### We can also sort the documents based on multiple fields. For example, we can sort the documents based on the name field in ascending order and the age field in descending order using the following query:"
   ]
  },
  {
   "cell_type": "code",
   "execution_count": null,
   "id": "b9b8453d-13b4-4525-b6cd-03fb191348ba",
   "metadata": {},
   "outputs": [],
   "source": [
    "db.students.find().sort({ name : 1 , age : -1 })"
   ]
  },
  {
   "cell_type": "markdown",
   "id": "840346c4-1aa6-4a59-baad-3d9399d8a9fd",
   "metadata": {},
   "source": [
    "### The result of this query would be:"
   ]
  },
  {
   "cell_type": "code",
   "execution_count": null,
   "id": "729a162b-e850-43a1-943b-5e18f80809e6",
   "metadata": {},
   "outputs": [],
   "source": [
    "{ \"_id\" : 1, \"name\" : \"Alice\", \"age\" : 20 }\n",
    "{ \"_id\" : 2, \"name\" : \"john\", \"age\" : 22 }\n",
    "{ \"_id\" : 3, \"name\" : \"Charlie\", \"age\" : 18 }\n"
   ]
  },
  {
   "cell_type": "markdown",
   "id": "b687c2c9-346a-4d6c-b632-7a1dfb9f5cf1",
   "metadata": {},
   "source": [
    "### In this example, the documents are first sorted by the name field in ascending order. For documents with the same name value, they are then sorted by the age field in descending order."
   ]
  },
  {
   "cell_type": "markdown",
   "id": "b4d85e80-bf12-4255-9a94-69cd3d139794",
   "metadata": {},
   "source": [
    "### Question no.7: Explain why delete_one(), delete_many(), and drop() is used.\n",
    "### Answer: In MongoDB, the delete_one(), delete_many(), and drop() methods are used to delete documents or collections from a database.\n",
    "\n",
    "### delete_one(): This method is used to delete a single document that matches the given filter. If multiple documents match the filter, only the first document encountered will be deleted. The syntax of the delete_one() method is as follows:"
   ]
  },
  {
   "cell_type": "code",
   "execution_count": null,
   "id": "a47fbe40-b654-4d4c-b394-0ff6d7768734",
   "metadata": {},
   "outputs": [],
   "source": [
    "db.collection.delete_one(filter)"
   ]
  },
  {
   "cell_type": "markdown",
   "id": "c2b9a371-1920-4960-b8b5-dfe719f32732",
   "metadata": {},
   "source": [
    "### where filter is a document that specifies the criteria for selecting the document to delete.\n",
    "\n",
    "### delete_many(): This method is used to delete all documents that match the given filter. The syntax of the delete_many() method is as follows:"
   ]
  },
  {
   "cell_type": "code",
   "execution_count": null,
   "id": "e6418af2-33ad-4838-9e5e-dcf657317d6b",
   "metadata": {},
   "outputs": [],
   "source": [
    "db.collection.delete_many(filter)\n"
   ]
  },
  {
   "cell_type": "markdown",
   "id": "971ee9a3-431e-44ac-90fb-792712ccb338",
   "metadata": {},
   "source": [
    "### where filter is a document that specifies the criteria for selecting the documents to delete.\n",
    "\n",
    "### These two methods are useful when you want to selectively remove documents from a collection based on certain criteria. For example, if you want to remove all documents with a certain value in a specific field, you can use delete_many() method to delete all such documents.\n",
    "\n",
    "### drop(): This method is used to drop an entire collection from a database. The syntax of the drop() method is as follows:\n"
   ]
  },
  {
   "cell_type": "code",
   "execution_count": null,
   "id": "099a8392-64e3-49d9-86d6-234be7fe0a42",
   "metadata": {},
   "outputs": [],
   "source": [
    "db.collection.drop()\n"
   ]
  },
  {
   "cell_type": "markdown",
   "id": "6a8303a5-6e3a-4f3e-ad23-dbb8aceddc76",
   "metadata": {},
   "source": [
    "### This method is useful when you want to delete all documents in a collection or when you want to start fresh with a new collection. Note that when you drop a collection, all indexes and associated data are also dropped. Therefore, it's important to use this method with caution.\n",
    "\n",
    "In summary, delete_one(), delete_many(), and drop() methods are important tools for deleting documents and collections in MongoDB, and they are used depending on the specific needs of the application."
   ]
  },
  {
   "cell_type": "code",
   "execution_count": null,
   "id": "13ee7ac8-7d2a-43c9-8de0-9666827252bb",
   "metadata": {},
   "outputs": [],
   "source": []
  },
  {
   "cell_type": "code",
   "execution_count": null,
   "id": "9630ff6c-9b68-4061-83cd-b1c324a5dd55",
   "metadata": {},
   "outputs": [],
   "source": []
  },
  {
   "cell_type": "code",
   "execution_count": null,
   "id": "2c88862f-4f88-4d6f-bbbb-270a776acfae",
   "metadata": {},
   "outputs": [],
   "source": []
  }
 ],
 "metadata": {
  "kernelspec": {
   "display_name": "Python 3 (ipykernel)",
   "language": "python",
   "name": "python3"
  },
  "language_info": {
   "codemirror_mode": {
    "name": "ipython",
    "version": 3
   },
   "file_extension": ".py",
   "mimetype": "text/x-python",
   "name": "python",
   "nbconvert_exporter": "python",
   "pygments_lexer": "ipython3",
   "version": "3.10.8"
  }
 },
 "nbformat": 4,
 "nbformat_minor": 5
}
